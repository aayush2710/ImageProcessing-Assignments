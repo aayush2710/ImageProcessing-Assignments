{
 "cells": [
  {
   "cell_type": "code",
   "execution_count": 1,
   "metadata": {},
   "outputs": [],
   "source": [
    "import numpy as np\n",
    "import matplotlib.pyplot as plt"
   ]
  },
  {
   "cell_type": "code",
   "execution_count": 2,
   "metadata": {},
   "outputs": [],
   "source": [
    "def sigmoid (x):\n",
    "    return 1/(1 + np.exp(-x))\n",
    "\n",
    "def sigmoid_grad(x):\n",
    "    return x * (1 - x)"
   ]
  },
  {
   "cell_type": "code",
   "execution_count": 3,
   "metadata": {},
   "outputs": [],
   "source": [
    "class MLP:\n",
    "    def __init__(self,inp,hidden,out):\n",
    "        self.hidden_w = np.random.random(size=(inp,hidden))\n",
    "        self.out_w = np.random.random(size=(hidden,out))\n",
    "        self.hidden_b = np.random.random(size=(1,hidden))\n",
    "        self.out_b = np.random.random(size=(1,out))\n",
    "        self.lr = 0.1\n",
    "    def learn(self , x,y):\n",
    "        loss = 0\n",
    "        for i in range(x.shape[0]):\n",
    "            hidden = sigmoid(np.dot(x[i],self.hidden_w)+ self.hidden_b)\n",
    "            out = sigmoid(np.dot(hidden,self.out_w)+ self.out_b)\n",
    "            diff = y[i] - out\n",
    "            out_grad = diff * sigmoid_grad(out)\n",
    "            diff_hidden = out_grad.dot(self.out_w.T)\n",
    "            hidden_grad = diff_hidden*sigmoid_grad(hidden)\n",
    "            self.out_w += hidden.T.dot(out_grad) * self.lr\n",
    "            self.out_b += np.sum(out_grad,axis=0,keepdims=True) * self.lr\n",
    "            self.hidden_w += x[i:i+1].T.dot(hidden_grad) * self.lr\n",
    "            self.hidden_b += np.sum(hidden_grad,axis=0,keepdims=True) * self.lr\n",
    "            loss += diff[0,0]**2\n",
    "        return loss/x.shape[0]\n",
    "    def train(self , x,y,epochs = 1):\n",
    "        for i in range(epochs):\n",
    "            loss = self.learn(x,y)\n",
    "            #print(\"At Epoch : \" , i+1 , \"  loss : \" , loss)\n",
    "            \n",
    "    def predict(self,x):\n",
    "        y = np.zeros((x.shape[0] , self.out_b.shape[1]))\n",
    "        for i in range(x.shape[0]):\n",
    "            hidden = sigmoid(np.dot(x[i],self.hidden_w)+ self.hidden_b)\n",
    "            out = sigmoid(np.dot(hidden,self.out_w)+ self.out_b)\n",
    "            y[i] = out\n",
    "        return y"
   ]
  },
  {
   "cell_type": "markdown",
   "metadata": {},
   "source": [
    "### XOR"
   ]
  },
  {
   "cell_type": "code",
   "execution_count": 4,
   "metadata": {},
   "outputs": [],
   "source": [
    "x = np.array([[0,0] , [0,1] , [1,0] , [1,1]])\n",
    "y = np.array([[0] , [1] , [1] , [0]])\n",
    "N = 40000\n",
    "mlp = MLP(2,2,1)\n",
    "Error = []\n",
    "for i in range(4 , N+1 , 4):\n",
    "    x_train=x + np.random.normal(0,1e-3 , size = x.shape)\n",
    "    y_train=y\n",
    "    mlp.train(x_train,y_train)\n",
    "    y_pred = mlp.predict(x)\n",
    "    #print(\"At N=\" , i , \"  Error = \" , np.mean((y-y_pred)**2))\n",
    "    Error.append(np.mean((y-y_pred)**2))"
   ]
  },
  {
   "cell_type": "code",
   "execution_count": 5,
   "metadata": {
    "scrolled": true
   },
   "outputs": [
    {
     "data": {
      "text/plain": [
       "[<matplotlib.lines.Line2D at 0x7fb7b263fb50>]"
      ]
     },
     "execution_count": 5,
     "metadata": {},
     "output_type": "execute_result"
    },
    {
     "data": {
      "image/png": "[encoded data removed]",
      "text/plain": [
       "<Figure size 432x288 with 1 Axes>"
      ]
     },
     "metadata": {
      "needs_background": "light"
     },
     "output_type": "display_data"
    }
   ],
   "source": [
    "plt.title(\"Error VS Number of Samples\")\n",
    "plt.xlabel(\"Number of Samples\")\n",
    "plt.ylabel(\"Error\")\n",
    "plt.plot(range(4 , N+1 , 4) , Error)"
   ]
  },
  {
   "cell_type": "markdown",
   "metadata": {},
   "source": [
    "### AND"
   ]
  },
  {
   "cell_type": "code",
   "execution_count": 6,
   "metadata": {},
   "outputs": [],
   "source": [
    "x = np.array([[0,0] , [0,1] , [1,0] , [1,1]])\n",
    "y = np.array([[0] , [0] , [0] , [1]])\n",
    "N = 40000\n",
    "mlp = MLP(2,2,1)\n",
    "Error = []\n",
    "for i in range(4 , N+1 , 4):\n",
    "    x_train=x + np.random.normal(0,1e-3 , size = x.shape)\n",
    "    y_train=y\n",
    "    mlp.train(x_train,y_train)\n",
    "    y_pred = mlp.predict(x)\n",
    "    #print(\"At N=\" , i , \"  Error = \" , np.mean((y-y_pred)**2))\n",
    "    Error.append(np.mean((y-y_pred)**2))"
   ]
  },
  {
   "cell_type": "code",
   "execution_count": 7,
   "metadata": {
    "scrolled": false
   },
   "outputs": [
    {
     "data": {
      "text/plain": [
       "[<matplotlib.lines.Line2D at 0x7fb7c00ae520>]"
      ]
     },
     "execution_count": 7,
     "metadata": {},
     "output_type": "execute_result"
    },
    {
     "data": {
      "image/png": "[encoded data removed]",
      "text/plain": [
       "<Figure size 432x288 with 1 Axes>"
      ]
     },
     "metadata": {
      "needs_background": "light"
     },
     "output_type": "display_data"
    }
   ],
   "source": [
    "plt.title(\"Error VS Number of Samples\")\n",
    "plt.xlabel(\"Number of Samples\")\n",
    "plt.ylabel(\"Error\")\n",
    "plt.plot(range(4 , N+1 , 4) , Error)"
   ]
  },
  {
   "cell_type": "markdown",
   "metadata": {},
   "source": [
    "### OR"
   ]
  },
  {
   "cell_type": "code",
   "execution_count": 8,
   "metadata": {},
   "outputs": [],
   "source": [
    "x = np.array([[0,0] , [0,1] , [1,0] , [1,1]])\n",
    "y = np.array([[0] , [1] , [1] , [1]])\n",
    "N = 40000\n",
    "mlp = MLP(2,2,1)\n",
    "Error = []\n",
    "for i in range(4 , N+1 , 4):\n",
    "    x_train=x + np.random.normal(0,1e-3 , size = x.shape)\n",
    "    y_train=y\n",
    "    mlp.train(x_train,y_train)\n",
    "    y_pred = mlp.predict(x)\n",
    "    #print(\"At N=\" , i , \"  Error = \" , np.mean((y-y_pred)**2))\n",
    "    Error.append(np.mean((y-y_pred)**2))"
   ]
  },
  {
   "cell_type": "code",
   "execution_count": 9,
   "metadata": {
    "scrolled": true
   },
   "outputs": [
    {
     "data": {
      "text/plain": [
       "[<matplotlib.lines.Line2D at 0x7fb7b251a4f0>]"
      ]
     },
     "execution_count": 9,
     "metadata": {},
     "output_type": "execute_result"
    },
    {
     "data": {
      "image/png": "[encoded data removed]",
      "text/plain": [
       "<Figure size 432x288 with 1 Axes>"
      ]
     },
     "metadata": {
      "needs_background": "light"
     },
     "output_type": "display_data"
    }
   ],
   "source": [
    "plt.title(\"Error VS Number of Samples\")\n",
    "plt.xlabel(\"Number of Samples\")\n",
    "plt.ylabel(\"Error\")\n",
    "plt.plot(range(4 , N+1 , 4) , Error)"
   ]
  },
  {
   "cell_type": "markdown",
   "metadata": {},
   "source": [
    "# AUTOENCODER"
   ]
  },
  {
   "cell_type": "code",
   "execution_count": 10,
   "metadata": {},
   "outputs": [],
   "source": [
    "from tensorflow.keras.datasets import mnist\n",
    "from skimage.transform import resize\n",
    "(x_train, _), (_ ,_) = mnist.load_data() \n",
    "x_train = resize(x_train, (x_train.shape[0], x_train.shape[1]//2, x_train.shape[2]//2), anti_aliasing = True) \n",
    "x_train = x_train.reshape(x_train.shape[0],-1)\n",
    "\n",
    "## Note : Only importing MNIST dataset via tensorflow. \n",
    "## Not using this library for implementation of autoencoder for this problem"
   ]
  },
  {
   "cell_type": "code",
   "execution_count": 11,
   "metadata": {},
   "outputs": [
    {
     "data": {
      "text/plain": [
       "(60000, 196)"
      ]
     },
     "execution_count": 11,
     "metadata": {},
     "output_type": "execute_result"
    }
   ],
   "source": [
    "x_train.shape"
   ]
  },
  {
   "cell_type": "code",
   "execution_count": 12,
   "metadata": {},
   "outputs": [],
   "source": [
    "x_train = x_train.astype(\"float32\") / 255"
   ]
  },
  {
   "cell_type": "code",
   "execution_count": 13,
   "metadata": {},
   "outputs": [],
   "source": [
    "import math\n",
    "class SparseAE:\n",
    "    def __init__(self,inp,hidden,out):\n",
    "        r = math.sqrt(3) / math.sqrt(inp+hidden + 1)\n",
    "        self.hidden_w = np.random.uniform(low = -r, high = r,size=(inp,hidden))\n",
    "        self.out_w = np.random.uniform(low = -r, high = r,size=(hidden,out))\n",
    "        self.hidden_b = np.random.uniform(low = -r, high = r,size=(1,hidden))\n",
    "        self.out_b = np.random.uniform(low = -r, high = r,size=(1,out))\n",
    "        self.lr = 0.001\n",
    "        self.p = 0.05\n",
    "        self.kl_factor = 0.1\n",
    "        \n",
    "    def learn(self , x,y):\n",
    "        loss = 0\n",
    "        kl_loss = 0\n",
    "        for i in range(x.shape[0]):\n",
    "            hidden = sigmoid(np.dot(x[i],self.hidden_w)+ self.hidden_b)\n",
    "            out = sigmoid(np.dot(hidden,self.out_w)+ self.out_b)\n",
    "            diff = y[i] - out\n",
    "            #print(hidden.shape)\n",
    "            zm = np.sum(hidden) /x.shape[1]\n",
    "            #print(zm)\n",
    "            sum_of_squares_error = 0.5 * np.sum(np.multiply(diff, diff)) / x.shape[1]\n",
    "            kl_div = np.sum(self.p * np.log(self.p / zm) +\n",
    "                    (1 - self.p) * np.log((1 - self.p) / (1 - zm)))  #KL Div Loss\n",
    "            \n",
    "            cost =sum_of_squares_error + self.kl_factor*kl_div\n",
    "            KL_div_grad = -self.kl_factor * (-(self.p / zm) + ((1 - self.p) / (1 - zm))) #Grad for KL div\n",
    "            \n",
    "            out_grad = diff * sigmoid_grad(out)\n",
    "            diff_hidden = out_grad.dot(self.out_w.T) + KL_div_grad\n",
    "            hidden_grad = diff_hidden*sigmoid_grad(hidden)\n",
    "            \n",
    "            \n",
    "            self.out_w += hidden.T.dot(out_grad) * self.lr\n",
    "            self.out_b += np.sum(out_grad,axis=0,keepdims=True) * self.lr\n",
    "            self.hidden_w += x[i:i+1].T.dot(hidden_grad) * self.lr\n",
    "            self.hidden_b += np.sum(hidden_grad,axis=0,keepdims=True) * self.lr\n",
    "            loss += cost\n",
    "            kl_loss+= kl_div\n",
    "            \n",
    "        return loss/x.shape[0] , kl_loss/x.shape[0]\n",
    "    def train(self , x,y,epochs = 15):\n",
    "        for i in range(epochs):\n",
    "            loss,kl_div = self.learn(x,y)\n",
    "            print(\"At Epoch : \" , i+1 , \"total loss : \" , loss , \"KL loss : \" , kl_div)\n",
    "            \n",
    "    def predict(self,x):\n",
    "        y = np.zeros((x.shape[0] , self.out_b.shape[1]))\n",
    "        for i in range(x.shape[0]):\n",
    "            hidden = sigmoid(np.dot(x[i],self.hidden_w)+ self.hidden_b)\n",
    "            out = sigmoid(np.dot(hidden,self.out_w)+ self.out_b)\n",
    "            y[i] = out\n",
    "        return y"
   ]
  },
  {
   "cell_type": "code",
   "execution_count": 14,
   "metadata": {},
   "outputs": [],
   "source": [
    "autoencoder = SparseAE(196,300,196)"
   ]
  },
  {
   "cell_type": "code",
   "execution_count": 15,
   "metadata": {},
   "outputs": [
    {
     "name": "stdout",
     "output_type": "stream",
     "text": [
      "At Epoch :  1 total loss :  0.13426119461951452 KL loss :  1.1265971860236716\n",
      "At Epoch :  2 total loss :  0.10566930778912693 KL loss :  1.0203275522718698\n",
      "At Epoch :  3 total loss :  0.09555149712823677 KL loss :  0.9326624303047213\n",
      "At Epoch :  4 total loss :  0.08777326079901239 KL loss :  0.8598302315968072\n",
      "At Epoch :  5 total loss :  0.08135748271866702 KL loss :  0.7981533008362123\n",
      "At Epoch :  6 total loss :  0.07590386492620603 KL loss :  0.7450519608803429\n",
      "At Epoch :  7 total loss :  0.07118025273663924 KL loss :  0.6987129426396389\n",
      "At Epoch :  8 total loss :  0.06703299349920162 KL loss :  0.6578262428831905\n",
      "At Epoch :  9 total loss :  0.06335313719771331 KL loss :  0.6214184992697569\n",
      "At Epoch :  10 total loss :  0.06005996722188878 KL loss :  0.5887481943655557\n",
      "At Epoch :  11 total loss :  0.05709177385931789 KL loss :  0.5592381170719614\n",
      "At Epoch :  12 total loss :  0.054400222806297444 KL loss :  0.5324305422381518\n",
      "At Epoch :  13 total loss :  0.05194671127558749 KL loss :  0.5079566362810314\n",
      "At Epoch :  14 total loss :  0.04969990647741153 KL loss :  0.48551503048652633\n",
      "At Epoch :  15 total loss :  0.04763402599561976 KL loss :  0.46485646613033915\n"
     ]
    }
   ],
   "source": [
    "autoencoder.train(x_train[:1000],x_train[:1000]) #Reduced dataset size for fast training"
   ]
  },
  {
   "cell_type": "markdown",
   "metadata": {},
   "source": [
    "# Variational AutoEncoder"
   ]
  },
  {
   "cell_type": "code",
   "execution_count": 16,
   "metadata": {},
   "outputs": [],
   "source": [
    "import tensorflow as tf\n",
    "from skimage.transform import resize"
   ]
  },
  {
   "cell_type": "code",
   "execution_count": 17,
   "metadata": {},
   "outputs": [],
   "source": [
    "class VAE(tf.keras.Model):\n",
    "    def __init__(self, **kwargs):\n",
    "        super(VAE, self).__init__(**kwargs)\n",
    "        latent_dim = 2\n",
    "        input_encoder = tf.keras.Input(shape=(14, 14, 1))\n",
    "        x = tf.keras.layers.Conv2D(32, 3, activation=\"relu\", strides=2, padding=\"same\")(input_encoder)\n",
    "        #x = tf.keras.layers.Conv2D(64, 3, activation=\"relu\", strides=2, padding=\"same\")(x)\n",
    "        x = tf.keras.layers.Flatten()(x)\n",
    "        x = tf.keras.layers.Dense(16, activation=\"relu\")(x)\n",
    "        z_mu = tf.keras.layers.Dense(latent_dim)(x)\n",
    "        z_sigma = tf.keras.layers.Dense(latent_dim)(x)\n",
    "        self.encoder = tf.keras.Model(input_encoder, [z_mu,z_sigma])\n",
    "        \n",
    "        input_decoder = tf.keras.Input(shape=(latent_dim,))\n",
    "        y = tf.keras.layers.Dense(7 * 7 * 32, activation=\"relu\")(input_decoder)\n",
    "        y = tf.keras.layers.Reshape((7, 7, 32))(y)\n",
    "        y = tf.keras.layers.Conv2DTranspose(64, 3, activation=\"relu\", strides=2, padding=\"same\")(y)\n",
    "        #y = tf.keras.layers.Conv2DTranspose(32, 3, activation=\"relu\", strides=2, padding=\"same\")(y)\n",
    "        output = tf.keras.layers.Conv2DTranspose(1, 3, activation=\"sigmoid\", padding=\"same\")(y)\n",
    "        self.decoder = tf.keras.Model(input_decoder, output)\n",
    "    \n",
    "    def train_step(self, data):\n",
    "        if isinstance(data, tuple):\n",
    "            data = data[0]\n",
    "        with tf.GradientTape() as tape:\n",
    "            mu, sigma = self.encoder(data)\n",
    "            batch = tf.shape(mu)[0]\n",
    "            dim = tf.shape(mu)[1]\n",
    "            epsilon = tf.keras.backend.random_normal(shape=(batch, dim))\n",
    "            z = mu + tf.exp(0.5 * sigma) * epsilon\n",
    "            generated = self.decoder(z)\n",
    "            gloss = tf.reduce_mean(\n",
    "                    tf.keras.losses.binary_crossentropy(data, generated)\n",
    "                ) * 14*14\n",
    "            kl_loss = 1 + sigma - tf.square(mu) - tf.exp(sigma)\n",
    "            kl_loss = tf.reduce_mean(kl_loss)\n",
    "            kl_loss *= -0.5\n",
    "            total_loss = gloss + kl_loss\n",
    "        grads = tape.gradient(total_loss, self.trainable_weights)\n",
    "        self.optimizer.apply_gradients(zip(grads, self.trainable_weights))\n",
    "        return {\n",
    "            \"loss\": total_loss,\n",
    "            \"bce_loss\": gloss,\n",
    "            \"kl_loss\": kl_loss,\n",
    "        }\n",
    "    \n",
    "    def summary(self):\n",
    "        print(encoder.summary())\n",
    "        print(decoder.summary())\n",
    "        \n",
    "        \n",
    "        \n",
    "        "
   ]
  },
  {
   "cell_type": "code",
   "execution_count": 18,
   "metadata": {},
   "outputs": [],
   "source": [
    "vae = VAE()"
   ]
  },
  {
   "cell_type": "code",
   "execution_count": 19,
   "metadata": {},
   "outputs": [],
   "source": [
    "(x_train, _), (x_test, _) = tf.keras.datasets.mnist.load_data()\n",
    "x_train = resize(x_train, (x_train.shape[0], x_train.shape[1]//2, x_train.shape[2]//2), anti_aliasing = True) \n",
    "x_test = resize(x_test, (x_test.shape[0], x_test.shape[1]//2, x_test.shape[2]//2), anti_aliasing = True) "
   ]
  },
  {
   "cell_type": "code",
   "execution_count": 20,
   "metadata": {},
   "outputs": [
    {
     "name": "stdout",
     "output_type": "stream",
     "text": [
      "Epoch 1/20\n",
      "547/547 [==============================] - 9s 17ms/step - loss: 6.1451 - bce_loss: 6.0553 - kl_loss: 0.0898\n",
      "Epoch 2/20\n",
      "547/547 [==============================] - 10s 18ms/step - loss: 0.8190 - bce_loss: 0.8188 - kl_loss: 2.2744e-04\n",
      "Epoch 3/20\n",
      "547/547 [==============================] - 10s 18ms/step - loss: 0.7922 - bce_loss: 0.7922 - kl_loss: 2.7358e-05\n",
      "Epoch 4/20\n",
      "547/547 [==============================] - 10s 18ms/step - loss: 0.7851 - bce_loss: 0.7851 - kl_loss: 9.9755e-06\n",
      "Epoch 5/20\n",
      "547/547 [==============================] - 10s 18ms/step - loss: 0.7824 - bce_loss: 0.7823 - kl_loss: 9.2408e-06\n",
      "Epoch 6/20\n",
      "547/547 [==============================] - 10s 18ms/step - loss: 0.7807 - bce_loss: 0.7807 - kl_loss: 6.3054e-06\n",
      "Epoch 7/20\n",
      "547/547 [==============================] - 10s 18ms/step - loss: 0.7799 - bce_loss: 0.7799 - kl_loss: 3.0019e-06\n",
      "Epoch 8/20\n",
      "547/547 [==============================] - 10s 18ms/step - loss: 0.7790 - bce_loss: 0.7790 - kl_loss: 1.3469e-06\n",
      "Epoch 9/20\n",
      "547/547 [==============================] - 10s 18ms/step - loss: 0.7785 - bce_loss: 0.7785 - kl_loss: 5.9707e-07\n",
      "Epoch 10/20\n",
      "547/547 [==============================] - 10s 18ms/step - loss: 0.7783 - bce_loss: 0.7783 - kl_loss: 3.1744e-07\n",
      "Epoch 11/20\n",
      "547/547 [==============================] - 10s 18ms/step - loss: 0.7780 - bce_loss: 0.7780 - kl_loss: 1.9505e-07\n",
      "Epoch 12/20\n",
      "547/547 [==============================] - 10s 18ms/step - loss: 0.7780 - bce_loss: 0.7780 - kl_loss: 1.2889e-07\n",
      "Epoch 13/20\n",
      "547/547 [==============================] - 10s 18ms/step - loss: 0.7780 - bce_loss: 0.7780 - kl_loss: 1.0114e-07\n",
      "Epoch 14/20\n",
      "547/547 [==============================] - 10s 18ms/step - loss: 0.7779 - bce_loss: 0.7779 - kl_loss: 7.5023e-08\n",
      "Epoch 15/20\n",
      "547/547 [==============================] - 10s 18ms/step - loss: 0.7780 - bce_loss: 0.7780 - kl_loss: 6.9744e-08\n",
      "Epoch 16/20\n",
      "547/547 [==============================] - 10s 18ms/step - loss: 0.7778 - bce_loss: 0.7778 - kl_loss: 6.1567e-08\n",
      "Epoch 17/20\n",
      "547/547 [==============================] - 10s 18ms/step - loss: 0.7779 - bce_loss: 0.7779 - kl_loss: 6.4040e-08\n",
      "Epoch 18/20\n",
      "547/547 [==============================] - 10s 18ms/step - loss: 0.7778 - bce_loss: 0.7778 - kl_loss: 6.7609e-08\n",
      "Epoch 19/20\n",
      "547/547 [==============================] - 10s 18ms/step - loss: 0.7779 - bce_loss: 0.7779 - kl_loss: 6.3192e-08\n",
      "Epoch 20/20\n",
      "547/547 [==============================] - 10s 18ms/step - loss: 0.7779 - bce_loss: 0.7779 - kl_loss: 5.7333e-08\n"
     ]
    }
   ],
   "source": [
    "x = np.concatenate([x_train, x_test], axis=0)\n",
    "x = np.expand_dims(x, -1).astype(\"float32\") / 255\n",
    "vae.compile(optimizer=tf.keras.optimizers.Adam())\n",
    "hist = vae.fit(x, epochs=20, batch_size=128)\n",
    "\n",
    "\n",
    "#Limiting number of epochs to save time"
   ]
  },
  {
   "cell_type": "code",
   "execution_count": 21,
   "metadata": {},
   "outputs": [
    {
     "data": {
      "image/png": "[encoded data removed]",
      "text/plain": [
       "<Figure size 432x288 with 1 Axes>"
      ]
     },
     "metadata": {
      "needs_background": "light"
     },
     "output_type": "display_data"
    }
   ],
   "source": [
    "losses = hist.history[\"loss\"]\n",
    "plt.xlabel(\"Epochs\")\n",
    "plt.ylabel(\"Training Loss\")\n",
    "plt.plot(range(1,len(losses)+1) , losses)\n",
    "plt.show()"
   ]
  },
  {
   "cell_type": "code",
   "execution_count": 25,
   "metadata": {},
   "outputs": [],
   "source": [
    "z_sample = np.array([[0.25,0.2]])\n",
    "x_decoded = vae.decoder(z_sample)"
   ]
  },
  {
   "cell_type": "code",
   "execution_count": 26,
   "metadata": {},
   "outputs": [
    {
     "data": {
      "text/plain": [
       "TensorShape([1, 14, 14, 1])"
      ]
     },
     "execution_count": 26,
     "metadata": {},
     "output_type": "execute_result"
    }
   ],
   "source": [
    "x_decoded.shape"
   ]
  },
  {
   "cell_type": "code",
   "execution_count": 27,
   "metadata": {},
   "outputs": [
    {
     "data": {
      "image/png": "[encoded data removed]",
      "text/plain": [
       "<Figure size 432x288 with 1 Axes>"
      ]
     },
     "metadata": {
      "needs_background": "light"
     },
     "output_type": "display_data"
    },
    {
     "data": {
      "image/png": "[encoded data removed]",
      "text/plain": [
       "<Figure size 432x288 with 1 Axes>"
      ]
     },
     "metadata": {
      "needs_background": "light"
     },
     "output_type": "display_data"
    }
   ],
   "source": [
    "plt.title(\"Original\")\n",
    "plt.imshow(x_train[0],cmap=plt.get_cmap('gray'))\n",
    "plt.show()\n",
    "plt.title(\"Generated\")\n",
    "plt.imshow(x_decoded[0],cmap=plt.get_cmap('gray'))\n",
    "plt.show()"
   ]
  },
  {
   "cell_type": "code",
   "execution_count": null,
   "metadata": {},
   "outputs": [],
   "source": []
  }
 ],
 "metadata": {
  "kernelspec": {
   "display_name": "Python 3",
   "language": "python",
   "name": "python3"
  },
  "language_info": {
   "codemirror_mode": {
    "name": "ipython",
    "version": 3
   },
   "file_extension": ".py",
   "mimetype": "text/x-python",
   "name": "python",
   "nbconvert_exporter": "python",
   "pygments_lexer": "ipython3",
   "version": "3.8.5"
  }
 },
 "nbformat": 4,
 "nbformat_minor": 4
}
